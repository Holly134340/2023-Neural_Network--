{
 "cells": [
  {
   "cell_type": "markdown",
   "id": "da0b4c79",
   "metadata": {},
   "source": [
    "#### 姓名：崔佳音\n",
    "#### 学号：22210980003"
   ]
  },
  {
   "cell_type": "markdown",
   "id": "d7777a53",
   "metadata": {},
   "source": [
    "1.目标：使用numpy构建两层神经网络分类器，对MiNIST数据集进行训练与测试。<br>\n",
    "2.实现步骤：<br>\n",
    "(1) 数据预处理：分为train训练、valid验证、test测试三个数据集。<br>\n",
    "(2) 定义激活函数，tanh、softmax<br>\n",
    "(3) 定义层数以及每层参数<br>\n",
    "(4) 初始化参数<br>\n",
    "(5) 定义预测函数<br>\n",
    "(6) 定义损失函数 <br>\n",
    "(7) 反向传播求导数<br>\n",
    "(8) 梯度下降更新参数<br>\n",
    "(9) 训练<br>\n",
    "(10) 可视化训练和测试的loss曲线，测试的accuracy曲线<br>\n",
    "(11) 可视化每层的网络参数<br>"
   ]
  },
  {
   "cell_type": "markdown",
   "id": "5353b53f",
   "metadata": {},
   "source": [
    "github repo链接:<br>\n",
    "https://github.com/Holly134340/2023-Neural_Network--/tree/main"
   ]
  },
  {
   "cell_type": "markdown",
   "id": "ebdea5ed",
   "metadata": {},
   "source": [
    "详细过程及代码如下："
   ]
  },
  {
   "cell_type": "code",
   "execution_count": null,
   "id": "17459302",
   "metadata": {},
   "outputs": [],
   "source": [
    "import numpy as np\n",
    "import math\n",
    "import matplotlib.pyplot as plt\n",
    "from keras.datasets import mnist"
   ]
  },
  {
   "cell_type": "code",
   "execution_count": 127,
   "id": "f569ae38",
   "metadata": {},
   "outputs": [],
   "source": [
    "(X_train, y_train), (X_test, y_test) = mnist.load_data()\n",
    "\n",
    "# 数据预处理\n",
    "train_num = 50000\n",
    "valid_num = 10000\n",
    "test_num = 10000\n",
    "#保证数据取值在(0,1)之间,同时将训练集的后10000数据取出作为验证集，保留所有数据为矩阵形式\n",
    "X_train = X_train.reshape(X_train.shape[0], -1).T / 255.\n",
    "X_test = X_test.reshape(X_test.shape[0], -1).T / 255.\n",
    "\n",
    "y_train = y_train.reshape(1, -1)\n",
    "y_test = y_test.reshape(1, -1)\n",
    "\n",
    "X_valid = X_train[:,50000:60000]\n",
    "y_valid = y_train[:,50000:60000]\n",
    "\n",
    "X_train = X_train[:,:50000]\n",
    "y_train = y_train[:,:50000]\n",
    "\n"
   ]
  },
  {
   "cell_type": "code",
   "execution_count": 128,
   "id": "8c64e27e",
   "metadata": {},
   "outputs": [],
   "source": [
    "#定义两层激活函数，分别为：tanh、softmax\n",
    "\n",
    "def tanh(x):\n",
    "    return np.tanh(x)\n",
    "\n",
    "def softmax(x):\n",
    "    exp = np.exp(x-x.max())\n",
    "    return exp/exp.sum()"
   ]
  },
  {
   "cell_type": "code",
   "execution_count": 129,
   "id": "28e4eee0",
   "metadata": {},
   "outputs": [],
   "source": [
    "#定义输入与输出的纬度，即输入为28*28，输出为0~9，共10个数字\n",
    "dimensions = [28*28,10]\n",
    "#定义激活函数activation，含有上述定义的tanh与softmax函数\n",
    "activation = [tanh,softmax]\n",
    "#定义参数，注：第一层为‘data+b’形式，即只有一个参数b，第二层为“wx+b”形式，有两个参数：w与b，并定义其范围，存入distribution中\n",
    "distribution = [\n",
    "    {'b':[0,0]},\n",
    "    {'b':[0,0],'w':[-math.sqrt(6/(dimensions[0]+dimensions[1])), math.sqrt(6/(dimensions[0]+dimensions[1]))]}\n",
    "]"
   ]
  },
  {
   "cell_type": "code",
   "execution_count": 130,
   "id": "e6090b64",
   "metadata": {},
   "outputs": [],
   "source": [
    "#定义函数，用于根据上述定义参数范围初始化参数\n",
    "\n",
    "def init_parameters_b(layer):\n",
    "    dist = distribution[layer]['b']\n",
    "    return np.random.rand(dimensions[layer])*(dist[1]-dist[0])+dist[0]\n",
    "\n",
    "def init_parameters_w(layer):\n",
    "    dist = distribution[layer]['w']\n",
    "    return np.random.rand(dimensions[layer-1],dimensions[layer])*(dist[1]-dist[0])+dist[0]\n",
    "\n",
    "def init_parameters():\n",
    "    parameter = []\n",
    "    for i in range(len(distribution)):\n",
    "        layer_parameter = {}\n",
    "        for j in distribution[i].keys():\n",
    "            if j == 'b':\n",
    "                layer_parameter['b'] = init_parameters_b(i)\n",
    "                continue\n",
    "            if j == 'w':\n",
    "                layer_parameter['w'] = init_parameters_w(i)\n",
    "                continue\n",
    "        parameter.append(layer_parameter)\n",
    "        \n",
    "    return parameter"
   ]
  },
  {
   "cell_type": "code",
   "execution_count": 131,
   "id": "1e05da66",
   "metadata": {},
   "outputs": [],
   "source": [
    "#检验初始化参数形式是否正确，并展示parameters的结构\n",
    "parameters = init_parameters()"
   ]
  },
  {
   "cell_type": "code",
   "execution_count": 132,
   "id": "d4690b5b",
   "metadata": {},
   "outputs": [],
   "source": [
    "#定义预测函数，输入为img(即28*28=784的数据，与对应参数)，输出为预测属于每一个分类的概率\n",
    "\n",
    "def predict(img,parameters):\n",
    "    l0_in = img+parameters[0]['b']\n",
    "    l0_out = activation[0](l0_in)\n",
    "    l1_in = np.dot(l0_out,parameters[1]['w'])+parameters[1]['b']\n",
    "    l1_out = activation[1](l1_in)\n",
    "    return l1_out"
   ]
  },
  {
   "cell_type": "code",
   "execution_count": 133,
   "id": "a3913bc4",
   "metadata": {},
   "outputs": [
    {
     "data": {
      "text/plain": [
       "2"
      ]
     },
     "execution_count": 133,
     "metadata": {},
     "output_type": "execute_result"
    }
   ],
   "source": [
    "#测试predict函数\n",
    "predict(np.random.rand(784),parameters).argmax()"
   ]
  },
  {
   "cell_type": "code",
   "execution_count": 134,
   "id": "0bd15bd9",
   "metadata": {},
   "outputs": [
    {
     "data": {
      "text/plain": [
       "<matplotlib.image.AxesImage at 0x28bca67ca00>"
      ]
     },
     "execution_count": 134,
     "metadata": {},
     "output_type": "execute_result"
    },
    {
     "data": {
      "image/png": "[encoded data removed]",
      "text/plain": [
       "<Figure size 640x480 with 1 Axes>"
      ]
     },
     "metadata": {},
     "output_type": "display_data"
    }
   ],
   "source": [
    "#将图片绘制出来\n",
    "\n",
    "im = np.reshape(X_train[:,0],(28,28))\n",
    "plt.imshow(im,cmap = 'gray')"
   ]
  },
  {
   "cell_type": "code",
   "execution_count": 135,
   "id": "f93a1790",
   "metadata": {},
   "outputs": [],
   "source": [
    "#定义激活函数的导数，并将其写入differential中\n",
    "def d_softmax(data):\n",
    "    sm = softmax(data)\n",
    "    return np.diag(sm)-np.outer(sm,sm)\n",
    "def d_tanh(data):\n",
    "    return 1/np.cosh(data)**2\n",
    "\n",
    "differential = {softmax:d_softmax,tanh:d_tanh}"
   ]
  },
  {
   "cell_type": "code",
   "execution_count": 136,
   "id": "4af29d64",
   "metadata": {},
   "outputs": [],
   "source": [
    "#onthot用于将lab变成向量形式\n",
    "onehot = np.identity(dimensions[-1])"
   ]
  },
  {
   "cell_type": "code",
   "execution_count": 137,
   "id": "692b7f80",
   "metadata": {},
   "outputs": [],
   "source": [
    "#定义损失函数\n",
    "def sqr_loss(img,lab,parameters):\n",
    "    y_pred = predict(img, parameters)\n",
    "    y = onehot[lab]\n",
    "    diff = y-y_pred\n",
    "    return np.dot(diff,diff)"
   ]
  },
  {
   "cell_type": "code",
   "execution_count": 138,
   "id": "8d829173",
   "metadata": {},
   "outputs": [],
   "source": [
    "#定义函数，用于得到损失函数对于每一个参数的导数，即梯度\n",
    "def grad_parameters(img,lab,parameters):\n",
    "    l0_in = img+parameters[0]['b']\n",
    "    l0_out = activation[0](l0_in)\n",
    "    l1_in = np.dot(l0_out,parameters[1]['w'])+parameters[1]['b']\n",
    "    l1_out = activation[1](l1_in)\n",
    "    \n",
    "    diff = onehot[lab]-l1_out\n",
    "    act1 = np.dot(differential[activation[1]](l1_in),diff)\n",
    "\n",
    "    grad_b1 = -2*act1\n",
    "    grad_w1 = -2*np.outer(l0_out,act1)\n",
    "    grad_b0 = -2*differential[activation[0]](l0_in)*np.dot(parameters[1]['w'],act1)\n",
    "    \n",
    "    return {'w1':grad_w1,'b1':grad_b1,'b0':grad_b0}"
   ]
  },
  {
   "cell_type": "code",
   "execution_count": 139,
   "id": "3aac1bfd",
   "metadata": {},
   "outputs": [
    {
     "name": "stdout",
     "output_type": "stream",
     "text": [
      "-5.842837411812463e-10\n",
      "-1.1844529095202116e-06\n",
      "-5.189680620304102e-07\n",
      "6.557840532217529e-06\n",
      "-1.598007918298186e-06\n",
      "-1.715083529984368e-06\n",
      "-2.1529596478837842e-06\n",
      "-4.57100478426075e-07\n",
      "-2.9172552317296985e-06\n",
      "-1.9025966167610098e-06\n"
     ]
    }
   ],
   "source": [
    "#h1,验证b1求导是否正确\n",
    "h = 0.0001\n",
    "train_num = 50000\n",
    "for i in range(10):\n",
    "    img_i = np.random.randint(train_num)\n",
    "    test_parameters = init_parameters()\n",
    "    derivative = grad_parameters(X_train[:,img_i],y_train[0,img_i],test_parameters)['b1']\n",
    "    value1 = sqr_loss(X_train[:,img_i],y_train[0,img_i],test_parameters)\n",
    "    test_parameters[1]['b'][i]+=h\n",
    "    value2 = sqr_loss(X_train[:,img_i],y_train[0,img_i],test_parameters)\n",
    "    print(derivative[i]-(value2-value1)/h)"
   ]
  },
  {
   "cell_type": "code",
   "execution_count": 140,
   "id": "f8f269d5",
   "metadata": {},
   "outputs": [
    {
     "data": {
      "text/plain": [
       "4.165136314598916e-06"
      ]
     },
     "execution_count": 140,
     "metadata": {},
     "output_type": "execute_result"
    }
   ],
   "source": [
    "#验证w1求导是否正确\n",
    "h = 0.0001\n",
    "train_num = 50000\n",
    "grad_list = []\n",
    "for i in range(784):\n",
    "    for j in range(10):\n",
    "        \n",
    "        img_i = np.random.randint(train_num)\n",
    "        test_parameters = init_parameters()\n",
    "        derivative = grad_parameters(X_train[:,img_i],y_train[0,img_i],test_parameters)['w1']\n",
    "        value1 = sqr_loss(X_train[:,img_i],y_train[0,img_i],test_parameters)\n",
    "        test_parameters[1]['w'][i][j]+=h\n",
    "        value2 = sqr_loss(X_train[:,img_i],y_train[0,img_i],test_parameters)\n",
    "        grad_list.append(derivative[i][j]-(value2-value1)/h)\n",
    "\n",
    "np.abs(grad_list).max()"
   ]
  },
  {
   "cell_type": "code",
   "execution_count": 141,
   "id": "d9459ef4",
   "metadata": {},
   "outputs": [
    {
     "data": {
      "text/plain": [
       "8.971326941747959e-09"
      ]
     },
     "execution_count": 141,
     "metadata": {},
     "output_type": "execute_result"
    }
   ],
   "source": [
    "#验证b0求导是否正确\n",
    "h = 0.000001\n",
    "train_num = 50000\n",
    "grad_list = []\n",
    "for i in range(784):\n",
    "    img_i = np.random.randint(train_num)\n",
    "    test_parameters = init_parameters()\n",
    "    derivative = grad_parameters(X_train[:,img_i],y_train[0,img_i],test_parameters)['b0']\n",
    "    value1 = sqr_loss(X_train[:,img_i],y_train[0,img_i],test_parameters)\n",
    "    test_parameters[0]['b'][i]+=h\n",
    "    value2 = sqr_loss(X_train[:,img_i],y_train[0,img_i],test_parameters)\n",
    "    grad_list.append(derivative[i]-(value2-value1)/h)\n",
    "\n",
    "np.abs(grad_list).max()"
   ]
  },
  {
   "cell_type": "code",
   "execution_count": 142,
   "id": "b3bcd255",
   "metadata": {},
   "outputs": [],
   "source": [
    "#将valid集中的loss累加\n",
    "def valid_loss(parameters):\n",
    "    loss_accu = 0\n",
    "    for img_i in range(valid_num):\n",
    "        loss_accu+=sqr_loss(X_valid[:,img_i], y_valid[0,img_i],parameters)\n",
    "    return loss_accu/(valid_num/10000)\n",
    "#定义函数，计算验证集准确率\n",
    "def valid_accuracy(parameters):\n",
    "    correct = [predict(X_valid[:,img_i],parameters).argmax()==y_valid[0,img_i] for img_i in range(valid_num)]\n",
    "    return correct.count(True)/len(correct)\n",
    "#定义函数，得到训练集loss    \n",
    "def train_loss(parameters):\n",
    "    loss_accu = 0\n",
    "    for img_i in range(train_num):\n",
    "        loss_accu+=sqr_loss(X_train[:,img_i], y_train[0,img_i],parameters)\n",
    "    return loss_accu/(train_num/10000)\n",
    "#定义函数，得到训练集准确率\n",
    "def train_accuracy(parameters):\n",
    "    correct = [predict(X_train[:,img_i],parameters).argmax()==y_train[0,img_i] for img_i in range(train_num)]\n",
    "    return correct.count(True)/len(correct)"
   ]
  },
  {
   "cell_type": "code",
   "execution_count": 143,
   "id": "ebda7203",
   "metadata": {},
   "outputs": [
    {
     "data": {
      "text/plain": [
       "0.12"
      ]
     },
     "execution_count": 143,
     "metadata": {},
     "output_type": "execute_result"
    }
   ],
   "source": [
    "#用初始参数进行测试，即随机分类\n",
    "valid_accuracy(init_parameters())"
   ]
  },
  {
   "cell_type": "code",
   "execution_count": 144,
   "id": "02a9605b",
   "metadata": {},
   "outputs": [],
   "source": [
    "#定义函数，将数据进行分组，并得到每一组的梯度平均值\n",
    "batch_size=100\n",
    "def train_batch(current_batch, parameters):\n",
    "    grad_accu = grad_parameters(X_train[:,current_batch*batch_size+0],y_train[0,current_batch*batch_size+0],parameters)\n",
    "    for img_i in range(1,batch_size):\n",
    "        grad_tmp = grad_parameters(X_train[:,current_batch*batch_size+img_i],y_train[0,current_batch*batch_size+img_i],parameters)\n",
    "        for key in grad_accu.keys():\n",
    "            grad_accu[key]+=grad_tmp[key]\n",
    "    for key in grad_accu.keys():\n",
    "            grad_accu[key]/=batch_size      \n",
    "    return grad_accu"
   ]
  },
  {
   "cell_type": "code",
   "execution_count": 145,
   "id": "d532aeb5",
   "metadata": {},
   "outputs": [],
   "source": [
    "import copy\n",
    "#使用梯度下降法，更新参数\n",
    "def combine_parameters(parameters, grad, learn_rate):\n",
    "    parameter_tmp = copy.deepcopy(parameters)\n",
    "    parameter_tmp[0]['b']-=learn_rate*grad['b0']\n",
    "    parameter_tmp[1]['b']-=learn_rate*grad['b1']\n",
    "    parameter_tmp[1]['w']-=learn_rate*grad['w1']\n",
    "    return parameter_tmp"
   ]
  },
  {
   "cell_type": "code",
   "execution_count": 146,
   "id": "282731ac",
   "metadata": {},
   "outputs": [],
   "source": [
    "parameters = init_parameters()\n",
    "current_epoch = 0\n",
    "train_loss_list = []\n",
    "valid_loss_list = []\n",
    "train_accu_list = []\n",
    "valid_accu_list = []"
   ]
  },
  {
   "cell_type": "code",
   "execution_count": 147,
   "id": "a35b43a9",
   "metadata": {},
   "outputs": [
    {
     "data": {
      "text/plain": [
       "0.111"
      ]
     },
     "execution_count": 147,
     "metadata": {},
     "output_type": "execute_result"
    }
   ],
   "source": [
    "valid_accuracy(parameters)"
   ]
  },
  {
   "cell_type": "code",
   "execution_count": 148,
   "id": "44baab2a",
   "metadata": {},
   "outputs": [],
   "source": [
    "from tqdm import tqdm"
   ]
  },
  {
   "cell_type": "code",
   "execution_count": 149,
   "id": "0a02bdf6",
   "metadata": {},
   "outputs": [
    {
     "name": "stderr",
     "output_type": "stream",
     "text": [
      "100%|██████████████████████████████████████████████████████████████████████████████████| 10/10 [03:05<00:00, 18.53s/it]\n"
     ]
    }
   ],
   "source": [
    "#进行训练\n",
    "learn_rate = 10**-0.5\n",
    "epoch_num = 10\n",
    "for epoch in tqdm(range(epoch_num)):\n",
    "    for i in range(train_num//batch_size):\n",
    "        grad_tmp = train_batch(i,parameters)\n",
    "        parameters = combine_parameters(parameters, grad_tmp, learn_rate)\n",
    "    current_epoch += 1\n",
    "    train_loss_list.append(train_loss(parameters))\n",
    "    valid_loss_list.append(valid_loss(parameters))\n",
    "    train_accu_list.append(train_accuracy(parameters))\n",
    "    valid_accu_list.append(valid_accuracy(parameters))"
   ]
  },
  {
   "cell_type": "code",
   "execution_count": 150,
   "id": "27bc6ba2",
   "metadata": {},
   "outputs": [
    {
     "data": {
      "text/plain": [
       "0.9274"
      ]
     },
     "execution_count": 150,
     "metadata": {},
     "output_type": "execute_result"
    }
   ],
   "source": [
    "#验证集准确率\n",
    "valid_accuracy(parameters)"
   ]
  },
  {
   "cell_type": "code",
   "execution_count": 151,
   "id": "b7d6ec6a",
   "metadata": {},
   "outputs": [
    {
     "data": {
      "text/plain": [
       "0.9255"
      ]
     },
     "execution_count": 151,
     "metadata": {},
     "output_type": "execute_result"
    }
   ],
   "source": [
    "#测试集准确率\n",
    "train_accuracy(parameters)"
   ]
  },
  {
   "cell_type": "code",
   "execution_count": 152,
   "id": "36010c62",
   "metadata": {},
   "outputs": [
    {
     "data": {
      "image/png": "[encoded data removed]",
      "text/plain": [
       "<Figure size 640x480 with 1 Axes>"
      ]
     },
     "metadata": {},
     "output_type": "display_data"
    }
   ],
   "source": [
    "#绘制loss变化图像\n",
    "lower = 0\n",
    "plt.plot(valid_loss_list[lower:],color = 'black',label = 'validation loss')\n",
    "plt.plot(train_loss_list[lower:],color = 'red',label = 'train loss')\n",
    "plt.show()"
   ]
  },
  {
   "cell_type": "code",
   "execution_count": 153,
   "id": "8983c602",
   "metadata": {},
   "outputs": [
    {
     "data": {
      "image/png": "[encoded data removed]",
      "text/plain": [
       "<Figure size 640x480 with 1 Axes>"
      ]
     },
     "metadata": {},
     "output_type": "display_data"
    }
   ],
   "source": [
    "#绘制准确率变化图像\n",
    "plt.plot(valid_accu_list[lower:],color = 'black',label = 'validation accurancy')\n",
    "plt.plot(train_accu_list[lower:],color = 'red',label = 'train accurancy')\n",
    "plt.show()"
   ]
  },
  {
   "cell_type": "code",
   "execution_count": 154,
   "id": "0ab55e68",
   "metadata": {},
   "outputs": [],
   "source": [
    "#寻找最优学习率\n",
    "rand_batch = np.random.randint(train_num/batch_size)\n",
    "grad_lr = train_batch(rand_batch, parameters)"
   ]
  },
  {
   "cell_type": "code",
   "execution_count": 155,
   "id": "ec9aa07e",
   "metadata": {},
   "outputs": [
    {
     "name": "stderr",
     "output_type": "stream",
     "text": [
      "100%|██████████████████████████████████████████████████████████████████████████████████| 20/20 [01:04<00:00,  3.22s/it]\n"
     ]
    }
   ],
   "source": [
    "lr_list = []\n",
    "lower = -2\n",
    "upper = 0\n",
    "step = 0.1\n",
    "for lr_pow in tqdm(np.linspace(lower, upper, num = int((upper-lower)//step+1))):\n",
    "    learn_rate = 10**lr_pow\n",
    "    parameters_tmp = combine_parameters(parameters,grad_lr,learn_rate)\n",
    "    train_loss_tmp = train_loss(parameters_tmp)\n",
    "    lr_list.append([lr_pow,train_loss_tmp])"
   ]
  },
  {
   "cell_type": "code",
   "execution_count": 156,
   "id": "332a457e",
   "metadata": {},
   "outputs": [
    {
     "data": {
      "image/png": "[encoded data removed]",
      "text/plain": [
       "<Figure size 640x480 with 1 Axes>"
      ]
     },
     "metadata": {},
     "output_type": "display_data"
    }
   ],
   "source": [
    "plt.plot(np.array(lr_list)[:,0],np.array(lr_list)[:,1],color = 'black')\n",
    "plt.show()"
   ]
  },
  {
   "cell_type": "code",
   "execution_count": 157,
   "id": "c04b0430",
   "metadata": {},
   "outputs": [],
   "source": [
    "#用测试集进行测试，并得到准确率\n",
    "def test_accuracy(parameters):\n",
    "    correct = [predict(X_test[:,img_i],parameters).argmax()==y_test[0,img_i] for img_i in range(test_num)]\n",
    "    return correct.count(True)/len(correct)\n"
   ]
  },
  {
   "cell_type": "code",
   "execution_count": 158,
   "id": "6dd4a59e",
   "metadata": {},
   "outputs": [
    {
     "name": "stdout",
     "output_type": "stream",
     "text": [
      "测试集的准确率为：0.9256\n"
     ]
    }
   ],
   "source": [
    "print('测试集的准确率为：{}'.format(test_accuracy(parameters)))"
   ]
  },
  {
   "cell_type": "code",
   "execution_count": 166,
   "id": "356359dc",
   "metadata": {},
   "outputs": [
    {
     "name": "stdout",
     "output_type": "stream",
     "text": [
      "b0: [ 1.85467756e-02  1.20848461e-02 -5.89682185e-03 -1.77929654e-02\n",
      "  2.93850760e-02  6.38363498e-03 -3.04126167e-02 -1.09197033e-02\n",
      " -1.37084914e-02 -2.29068333e-02  1.81305127e-02 -3.51070225e-03\n",
      "  2.73471412e-03 -2.39784994e-02 -6.97863648e-03 -7.18629664e-04\n",
      " -1.36522470e-02  2.67468737e-02 -2.81826734e-02 -1.76004213e-03\n",
      " -6.55428634e-03  1.30254511e-02  3.19261086e-03 -1.67200021e-02\n",
      " -1.26377865e-02 -1.97850434e-02  1.54736115e-02  1.24135777e-02\n",
      "  2.42569936e-02 -2.85977359e-02  6.94091039e-03 -6.75947729e-03\n",
      "  3.33526900e-03  4.11132832e-03 -5.08219686e-03 -1.23147176e-02\n",
      " -1.10085887e-02 -3.53242809e-02  1.58062371e-02  1.24117259e-02\n",
      " -3.51662735e-02  4.04408227e-03  6.37740832e-03  4.31093157e-03\n",
      " -2.00660388e-02 -7.22031526e-03  1.16754585e-02 -7.41897664e-03\n",
      " -2.46653233e-02  1.35810376e-02  1.34535295e-02  2.54495830e-03\n",
      "  3.13851858e-02  7.78275417e-03 -1.55709443e-02  2.12434981e-02\n",
      "  3.06801944e-05  2.03932823e-04 -5.10431211e-03 -7.78628345e-03\n",
      " -6.08577602e-03 -1.16280749e-03 -2.20763746e-02  1.13861848e-02\n",
      "  4.82572588e-02  1.24316761e-02  1.93151097e-02 -3.41866332e-02\n",
      " -4.31455249e-02 -2.38065751e-02 -1.87983483e-02 -1.89379299e-02\n",
      " -9.96508942e-03  1.29788001e-02  2.95499175e-02  2.68192861e-02\n",
      " -2.77645896e-03 -1.67869319e-02 -3.03209638e-02 -1.58365569e-02\n",
      "  2.32726433e-02 -2.35401694e-02 -1.72401884e-02  2.98466897e-02\n",
      "  1.32845416e-02  6.89066347e-03 -1.91720807e-02  2.89137828e-02\n",
      "  1.72958543e-02  7.89692107e-03  7.00711654e-03 -1.27664562e-02\n",
      " -2.32248592e-02 -8.27011365e-03 -1.42949283e-02 -1.13516409e-02\n",
      " -7.82849991e-02 -6.44439222e-02 -6.77538723e-02 -1.11272738e-02\n",
      " -1.34895622e-02 -2.04431518e-02 -2.54068821e-02  1.21378283e-02\n",
      " -2.27905847e-02  3.66268988e-02 -1.58650271e-02 -3.64610173e-03\n",
      " -3.95994718e-02  1.18674721e-02 -7.18722392e-03  1.38457904e-02\n",
      "  2.74503235e-02  3.72867781e-02  2.43289485e-02  1.63909432e-02\n",
      "  3.72895090e-03 -1.41505755e-03  3.34811990e-02 -9.38626121e-03\n",
      " -2.52046011e-02 -6.31173037e-02 -1.30889986e-01 -5.68464967e-02\n",
      " -1.19704974e-01 -1.21215284e-01 -1.27282468e-01 -7.36999154e-02\n",
      " -3.83052270e-02 -5.28096279e-02 -2.91551692e-02 -1.14993959e-02\n",
      " -5.36970271e-02  3.95122469e-03 -6.24935859e-02 -1.02439562e-02\n",
      " -1.09335006e-02  1.50887913e-02  7.05922625e-03 -4.19806998e-02\n",
      " -9.65925844e-03 -3.94530405e-02 -1.46033240e-02  1.59332542e-02\n",
      " -1.17308978e-02 -3.74704186e-02 -5.35238488e-03 -5.58279490e-02\n",
      " -5.19667714e-02 -5.32586250e-02 -8.88922851e-02 -1.08730288e-01\n",
      " -1.19427394e-01 -1.43644165e-01 -1.66499368e-01 -1.41160534e-01\n",
      " -1.35799089e-01 -1.15130334e-01 -1.06381376e-01 -6.31343038e-02\n",
      " -2.62407697e-02 -4.78437278e-02 -4.81577510e-02 -4.10255412e-02\n",
      "  1.58641254e-02  1.31471314e-02 -2.31958717e-02 -6.85488058e-03\n",
      " -4.11986444e-03  2.14836565e-02 -1.18062679e-02  6.09829289e-03\n",
      " -1.96538324e-02 -3.00512740e-02 -5.54685319e-02 -1.97829558e-02\n",
      " -6.62426178e-02 -2.18761012e-02 -6.07016933e-02 -7.70310757e-02\n",
      " -5.12783557e-02 -1.68214360e-01 -1.70981983e-01 -5.36671501e-02\n",
      " -1.22066319e-01 -9.66757541e-02 -5.20054637e-02 -3.08694268e-02\n",
      " -2.23208656e-02 -3.74047028e-02 -5.15042651e-02 -6.61813808e-02\n",
      " -1.85314548e-03  7.92261305e-03  2.93116515e-03  4.06690047e-04\n",
      "  1.45617989e-04 -2.24558947e-02 -5.05589400e-03 -1.27082615e-02\n",
      " -3.63658098e-02 -9.87013442e-02 -1.15711245e-01 -8.65001130e-02\n",
      " -7.59833646e-02 -4.20020583e-02 -8.49813252e-02 -1.24491374e-01\n",
      " -1.28514690e-01 -1.07007884e-01 -8.20889956e-02 -1.19823983e-02\n",
      " -7.24757033e-02 -1.41165489e-01 -1.11971633e-01 -8.99705275e-02\n",
      " -8.26671121e-02 -4.16016839e-02 -4.47477738e-02 -6.63893327e-02\n",
      " -3.84360396e-02 -2.97778520e-03  3.05078470e-02 -1.44972808e-02\n",
      " -3.80043734e-03 -1.70318568e-03  1.69638221e-02  9.74197466e-03\n",
      " -8.43567850e-02 -5.81060009e-02 -4.89490889e-02 -5.44085851e-02\n",
      " -3.70411313e-02 -2.09104097e-02 -8.42891721e-02 -7.41572910e-02\n",
      " -2.28398895e-02 -1.37360206e-02 -1.63293974e-01 -1.54878364e-01\n",
      " -1.25383457e-01 -1.52739462e-01 -1.85214638e-01 -1.36839279e-01\n",
      " -9.95596623e-02 -5.82543017e-02 -2.90643226e-02 -1.43114167e-01\n",
      " -1.02529192e-01 -3.30726796e-02  2.13344334e-03  2.43093805e-02\n",
      " -1.44991946e-02  7.12886316e-03  1.46375081e-02  1.00974255e-02\n",
      " -6.59250275e-02 -3.94002783e-02 -1.51822033e-02 -1.68310153e-02\n",
      "  7.76800417e-03  1.01486125e-02 -1.58428532e-02 -6.03804660e-02\n",
      " -5.17150372e-02 -1.10382549e-01 -3.06967029e-01 -3.07884404e-01\n",
      " -2.43973204e-01 -1.95878451e-01 -2.42472863e-01 -1.40506113e-01\n",
      " -1.21266867e-01 -1.19317880e-01 -1.16721569e-01 -1.59079419e-01\n",
      " -1.55945012e-01 -8.65098298e-02  1.42860732e-02  7.81021056e-03\n",
      "  1.11243703e-02 -8.79283890e-03  3.38425876e-03 -2.78517614e-02\n",
      " -3.22009523e-02  1.02040797e-02  2.83936453e-02  6.82596237e-03\n",
      " -3.32541468e-02 -7.12357988e-02 -1.38206642e-01 -1.57862980e-01\n",
      " -1.28200274e-01 -1.34486984e-01 -3.91517132e-01 -4.01150646e-01\n",
      " -3.38012702e-01 -2.36222269e-01 -1.70465866e-01 -1.49950361e-01\n",
      " -1.03953590e-01 -4.76233109e-02 -3.54669812e-02 -5.59634460e-02\n",
      " -8.68934812e-02 -4.59265440e-02 -2.46023842e-02  3.74752521e-02\n",
      " -1.98589189e-02  7.60607695e-03  4.27194977e-02 -1.12734048e-02\n",
      " -1.47260134e-03 -1.13406243e-02 -8.75262025e-02 -1.76202717e-01\n",
      " -2.29549752e-01 -1.82711145e-01 -1.22938974e-01 -1.10121239e-01\n",
      " -6.18567238e-02 -1.79902375e-01 -3.09620944e-01 -2.59128106e-01\n",
      " -2.81437564e-01 -2.48043212e-01 -1.81860197e-01 -2.04984053e-01\n",
      " -2.86753338e-01 -2.01487231e-01 -1.08449073e-01 -9.31421621e-02\n",
      " -5.68303740e-02 -4.91485177e-03 -1.11372412e-03  7.04622265e-03\n",
      " -1.83647361e-02 -1.59188762e-02  4.15409315e-03 -1.47537020e-02\n",
      " -2.10352987e-02 -4.52496628e-02 -2.06046653e-01 -2.08226427e-01\n",
      " -2.04113445e-01 -1.19487086e-01 -1.76988054e-01 -2.24896745e-01\n",
      " -1.65833909e-01 -2.24746756e-01 -3.92680827e-01 -2.90940021e-01\n",
      " -2.37265049e-01 -1.80154310e-01 -1.16963710e-01 -8.04998437e-02\n",
      " -1.00733537e-01 -1.67322461e-01 -2.24007805e-01 -1.62850642e-01\n",
      " -1.23424140e-01 -2.66218509e-03 -1.18674238e-02 -6.30767062e-03\n",
      "  1.85490410e-02 -3.81396593e-03 -6.01334525e-03  3.44769772e-03\n",
      " -1.68889544e-02 -6.15513372e-02 -2.25729280e-01 -2.37244880e-01\n",
      " -1.60947634e-01 -1.17382698e-01 -1.26147915e-01 -2.97824500e-01\n",
      " -1.92675081e-01 -2.44894208e-01 -2.80767308e-01 -2.09587116e-01\n",
      " -2.19208749e-01 -1.47169301e-01 -1.12799531e-01 -8.46043951e-02\n",
      " -8.32746878e-02 -9.81289718e-02 -7.35675925e-02 -1.63678515e-01\n",
      " -6.32308170e-02 -4.86051132e-02 -2.16552796e-03  2.21660908e-03\n",
      "  2.88534789e-03 -1.16607852e-02 -3.54369798e-02  4.61173212e-03\n",
      " -1.33122742e-02 -9.89866194e-02 -1.44454945e-01 -1.80969002e-01\n",
      " -1.35729851e-01 -1.23980207e-01 -1.62121893e-01 -2.38004700e-01\n",
      " -1.62477642e-01 -1.39333459e-01 -1.37044676e-01 -1.14725887e-01\n",
      " -1.54184055e-01 -1.67473471e-01 -1.17038365e-01 -1.29973689e-01\n",
      " -4.96015576e-02 -9.05677775e-02 -9.36235278e-02 -1.29344221e-01\n",
      " -5.33068622e-02 -1.75965577e-02 -1.21367759e-02 -7.15104889e-03\n",
      "  1.42480420e-02 -1.37771025e-02  2.04616792e-02  3.98850705e-03\n",
      " -3.75165380e-02 -7.81743797e-02 -1.08158416e-01 -1.54937625e-01\n",
      " -1.53215575e-01 -1.34762897e-01 -1.73111495e-01 -1.48892783e-01\n",
      " -8.71203994e-02 -1.97144462e-01 -2.12094840e-01 -1.74870586e-01\n",
      " -1.78164760e-01 -2.00434313e-01 -1.11366545e-01 -1.13465614e-01\n",
      " -1.16904638e-01 -1.44321049e-01 -1.08299836e-01 -1.05893490e-01\n",
      " -6.80093678e-03 -2.78906875e-02  5.78966776e-03  2.39764092e-02\n",
      "  3.23827833e-03 -1.27162098e-02  2.45528019e-02  2.72988604e-02\n",
      "  6.33435678e-03 -1.23249180e-01 -1.95259697e-01 -1.55776336e-01\n",
      " -2.23949946e-01 -1.82814082e-01 -1.90911716e-01 -4.89657220e-02\n",
      " -4.99033472e-02 -1.78235754e-01 -2.67257062e-01 -1.78229504e-01\n",
      " -1.75592237e-01 -1.32496105e-01 -1.13632652e-01 -9.72692621e-02\n",
      " -1.29862423e-01 -1.14668980e-01 -1.36921836e-01 -9.39116245e-02\n",
      " -2.93459076e-02 -2.76489355e-02 -1.09750564e-02  7.39094080e-03\n",
      "  6.41786575e-03  1.12256026e-02 -9.44780761e-04  1.29015127e-02\n",
      " -3.52178506e-02 -1.42969269e-01 -1.02019528e-01 -1.59748945e-01\n",
      " -2.61760347e-01 -2.89745705e-01 -2.54186110e-01 -1.71317900e-01\n",
      " -1.78319688e-01 -2.75978356e-01 -3.00507958e-01 -1.79158899e-01\n",
      " -7.08585871e-02 -1.18615386e-01 -9.77588560e-02 -9.42603651e-02\n",
      " -5.03183589e-02 -8.21662256e-02 -9.37616387e-02 -4.65603233e-02\n",
      " -5.49761275e-02 -3.78116672e-02 -2.37191442e-02 -3.59670433e-03\n",
      "  4.71139793e-03 -9.68015747e-03 -1.71413150e-03  6.03558119e-03\n",
      " -4.90177908e-02 -1.32976772e-01 -1.29162598e-01 -1.02220910e-01\n",
      " -7.79436323e-02 -1.45467840e-01 -2.45507130e-01 -1.99375898e-01\n",
      " -2.36905735e-01 -2.63011399e-01 -1.87241049e-01 -3.74596022e-02\n",
      " -7.23106334e-02 -4.28798638e-02 -8.14412704e-02 -4.38190541e-02\n",
      " -9.26527376e-03 -7.97023461e-02 -9.41941353e-02 -9.81277159e-02\n",
      " -6.74404450e-02 -2.26944472e-02  2.78213967e-03 -2.31440659e-02\n",
      "  4.50079960e-02 -7.17963011e-03 -2.28020114e-02 -3.21990013e-02\n",
      " -7.91379648e-02 -1.09742076e-01 -1.47648628e-01 -9.91881270e-02\n",
      " -1.68249117e-01 -1.68586804e-01 -1.44903699e-01 -1.89393415e-01\n",
      " -1.21906178e-01 -1.33662541e-01 -9.50011852e-02 -4.44918737e-02\n",
      " -3.42212896e-02 -9.92920109e-02 -9.86262663e-02 -5.14398273e-02\n",
      " -4.02705858e-02 -1.08953213e-01 -3.61271158e-02 -5.82063877e-02\n",
      " -4.22737598e-02 -2.68933191e-02  2.29227729e-02 -3.78536322e-03\n",
      "  2.70062385e-03  3.64442650e-02 -2.45435114e-02  2.30730881e-02\n",
      " -7.22092614e-02 -7.82803475e-02 -1.04067392e-01 -1.33678088e-01\n",
      " -1.13388629e-01 -1.74160818e-01 -1.94367863e-01 -2.26663006e-01\n",
      " -1.12567258e-01 -1.00515185e-01 -1.47900709e-01 -6.97165471e-02\n",
      " -5.74901137e-02 -9.14014245e-02 -7.15457715e-02 -2.18416437e-02\n",
      " -5.55184923e-02 -7.03355830e-02 -4.27177383e-02 -2.92737840e-02\n",
      " -2.26990302e-02 -1.24925873e-02 -2.34933675e-03 -5.30744962e-03\n",
      " -7.20209220e-03 -2.70098967e-03 -1.89653173e-03 -1.73893580e-03\n",
      " -9.23164942e-03 -9.97477798e-02 -1.02919526e-01 -5.31429642e-02\n",
      " -1.08070931e-01 -1.01752319e-01 -1.43638876e-01 -1.41505003e-01\n",
      " -1.38962396e-01 -5.96976369e-02 -8.16848697e-02 -4.26626306e-02\n",
      " -5.45210225e-02 -6.65328275e-02 -6.43844282e-02 -8.28539920e-02\n",
      " -1.00325603e-02 -6.43213974e-03  1.90393980e-04 -1.86207261e-02\n",
      " -2.51498948e-02 -3.44925842e-03 -3.28356249e-02  2.80247627e-04\n",
      " -1.43610707e-02 -2.01360211e-02 -9.18104009e-03 -4.17115020e-02\n",
      " -4.82630054e-02 -7.28001901e-02 -5.33304637e-02 -1.10896319e-01\n",
      " -9.88867946e-02 -1.07959150e-01 -3.17229273e-02 -2.14521939e-02\n",
      " -6.41875387e-02 -4.72888147e-02 -7.88345730e-03 -6.12831623e-02\n",
      " -8.99916064e-02 -8.80324460e-02 -6.00420288e-02 -5.87591926e-02\n",
      " -6.37702092e-02 -4.65137453e-02  1.43890677e-02 -2.75813734e-02\n",
      " -1.43260924e-02 -1.51918942e-03 -7.88035598e-03  8.55261393e-03\n",
      "  1.34721309e-02 -9.99433256e-03 -1.64338460e-02  3.21281269e-02\n",
      " -3.33200358e-03 -8.68703855e-02 -1.18755039e-01 -7.75843533e-02\n",
      " -5.92871878e-02 -9.37862305e-02 -8.59799564e-02 -6.47817330e-02\n",
      " -3.21817436e-02  1.79020564e-02 -1.59560188e-02 -2.36120915e-02\n",
      " -6.25904385e-02 -1.04428483e-01 -6.23880843e-02 -7.07398640e-02\n",
      " -3.71838718e-02 -3.19961161e-02  1.39947642e-02  6.63444777e-03\n",
      "  1.29040772e-03  1.68921125e-02 -1.73578985e-02 -1.09135287e-02\n",
      " -5.99726084e-04  1.46587551e-02 -3.39617555e-02 -1.67929625e-03\n",
      " -2.03944532e-02 -4.36864244e-02 -8.34876829e-02 -8.04651253e-02\n",
      " -2.94031895e-02 -3.29465768e-02 -5.24653309e-02 -8.96060836e-02\n",
      " -3.41612287e-02 -4.90875225e-02 -6.35489111e-02 -2.67248537e-02\n",
      " -4.88466761e-02  5.17231039e-03  4.00469870e-03 -8.00502926e-04\n",
      " -3.28320048e-02  1.06730534e-02 -7.49104020e-03  1.87325295e-02\n",
      "  1.37165951e-02 -1.11624553e-02  9.66420243e-03  3.55111509e-02\n",
      "  2.54740622e-02 -1.47599999e-02 -1.82145763e-02  1.63325089e-02\n",
      " -6.10373319e-03 -3.83292239e-02 -4.04633952e-02 -4.04255088e-02\n",
      " -5.83391334e-02 -4.09421434e-02 -6.86711637e-02 -7.29234838e-02\n",
      " -7.04130330e-02 -5.41042584e-02 -2.61267479e-02  2.98384964e-03\n",
      " -2.61495869e-02 -4.57588774e-02 -2.72638576e-02 -1.51074253e-02\n",
      " -4.88815568e-02 -1.88829882e-03  2.84102814e-03 -3.47193772e-03\n",
      " -3.21222674e-02 -1.45373642e-02 -7.31638401e-03  3.11909590e-03\n",
      " -1.25196065e-03  5.64909575e-03 -1.07842369e-02 -2.18871863e-02\n",
      "  6.82216746e-03 -1.49223678e-02  2.11968139e-02 -2.44635660e-02\n",
      " -5.32580223e-03  4.02526557e-02 -2.24633056e-02 -1.86676034e-02\n",
      " -3.34280403e-02 -4.77255801e-02 -5.91682938e-02 -5.08160157e-02\n",
      " -2.43324679e-02 -1.31692595e-02 -1.00955222e-02 -2.03257900e-02\n",
      " -2.93309120e-03 -2.79084617e-02  8.79556085e-03  1.92202093e-02\n",
      "  4.32559466e-03 -8.78420152e-03 -3.19222518e-02 -2.71219739e-02\n",
      " -1.97632720e-02 -2.02307171e-02 -2.05739531e-02 -3.90775201e-03\n",
      "  1.54779486e-02 -1.35783467e-02  1.68933266e-02  1.87012329e-02\n",
      " -3.65729312e-03  1.78952278e-02 -1.00806721e-02  7.07960985e-03\n",
      " -2.99939130e-03 -2.16247567e-03  1.76513380e-02  1.14812432e-02\n",
      "  6.65390692e-04  3.73805409e-02  3.91266810e-03 -2.55536821e-02\n",
      "  2.35754215e-02  7.29040138e-04 -1.88308596e-02 -1.67018592e-02\n",
      "  5.02636536e-03  2.75943219e-02 -2.71490863e-02 -1.36644504e-04]\n",
      "b1: [-0.20820216  0.05731009 -0.05861188 -0.07206892  0.0234193   0.26349286\n",
      "  0.0345782   0.03760701 -0.09123032  0.01370581]\n",
      "w1: [[-0.07738064  0.0092239   0.02045074 ...  0.035574    0.04525901\n",
      "   0.0849188 ]\n",
      " [-0.04460017 -0.0760283  -0.06154463 ... -0.02944983  0.04135682\n",
      "   0.08370508]\n",
      " [-0.02458041 -0.04884804  0.00257633 ... -0.03642902  0.06838093\n",
      "   0.08360202]\n",
      " ...\n",
      " [-0.03129899  0.01834362 -0.06097574 ...  0.06407762 -0.03735568\n",
      "  -0.00881826]\n",
      " [ 0.03178731 -0.03293545 -0.05547793 ...  0.06778226  0.08201569\n",
      "   0.0824221 ]\n",
      " [ 0.03667637 -0.07634666 -0.06342969 ... -0.01422636 -0.02651025\n",
      "   0.0115208 ]]\n"
     ]
    }
   ],
   "source": [
    "#可视化参数\n",
    "#第一层\n",
    "print('b0: {}'.format(parameters[0]['b']))\n",
    "#第二层\n",
    "print('b1: {}\\nw1: {}'.format(parameters[1]['b'],parameters[1]['w']))"
   ]
  },
  {
   "cell_type": "code",
   "execution_count": null,
   "id": "5978277d",
   "metadata": {},
   "outputs": [],
   "source": []
  }
 ],
 "metadata": {
  "kernelspec": {
   "display_name": "tensorflow",
   "language": "python",
   "name": "python3"
  },
  "language_info": {
   "codemirror_mode": {
    "name": "ipython",
    "version": 3
   },
   "file_extension": ".py",
   "mimetype": "text/x-python",
   "name": "python",
   "nbconvert_exporter": "python",
   "pygments_lexer": "ipython3",
   "version": "3.8.16"
  }
 },
 "nbformat": 4,
 "nbformat_minor": 5
}
